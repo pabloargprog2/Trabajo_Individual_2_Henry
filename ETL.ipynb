{
 "cells": [
  {
   "cell_type": "code",
   "execution_count": 2,
   "metadata": {},
   "outputs": [],
   "source": [
    "# Importación de librerías\n",
    "import pandas as pd\n",
    "import numpy as np\n",
    "import matplotlib.pyplot as plt\n",
    "import seaborn as sns"
   ]
  },
  {
   "cell_type": "code",
   "execution_count": 3,
   "metadata": {},
   "outputs": [
    {
     "data": {
      "text/plain": [
       "['Velocidad_sin_Rangos',\n",
       " 'Accesos_tecnologia_localidad',\n",
       " 'Totales Accesos Por Tecnología',\n",
       " 'Penetración-poblacion',\n",
       " 'Ingresos ']"
      ]
     },
     "execution_count": 3,
     "metadata": {},
     "output_type": "execute_result"
    }
   ],
   "source": [
    "# Cargar el archivo Excel\n",
    "file_path = \"Internet(adaptado).xlsx\" \n",
    "xls = pd.ExcelFile(file_path)\n",
    "\n",
    "# Mostrar las hojas disponibles en el archivo\n",
    "xls.sheet_names"
   ]
  },
  {
   "cell_type": "code",
   "execution_count": 4,
   "metadata": {},
   "outputs": [
    {
     "data": {
      "text/html": [
       "<div>\n",
       "<style scoped>\n",
       "    .dataframe tbody tr th:only-of-type {\n",
       "        vertical-align: middle;\n",
       "    }\n",
       "\n",
       "    .dataframe tbody tr th {\n",
       "        vertical-align: top;\n",
       "    }\n",
       "\n",
       "    .dataframe thead th {\n",
       "        text-align: right;\n",
       "    }\n",
       "</style>\n",
       "<table border=\"1\" class=\"dataframe\">\n",
       "  <thead>\n",
       "    <tr style=\"text-align: right;\">\n",
       "      <th></th>\n",
       "      <th>Año</th>\n",
       "      <th>Trimestre</th>\n",
       "      <th>Provincia</th>\n",
       "      <th>Velocidad</th>\n",
       "      <th>Accesos</th>\n",
       "    </tr>\n",
       "  </thead>\n",
       "  <tbody>\n",
       "    <tr>\n",
       "      <th>0</th>\n",
       "      <td>2024</td>\n",
       "      <td>2</td>\n",
       "      <td>BUENOS AIRES</td>\n",
       "      <td>75.0</td>\n",
       "      <td>1062</td>\n",
       "    </tr>\n",
       "    <tr>\n",
       "      <th>1</th>\n",
       "      <td>2024</td>\n",
       "      <td>2</td>\n",
       "      <td>BUENOS AIRES</td>\n",
       "      <td>59.0</td>\n",
       "      <td>59</td>\n",
       "    </tr>\n",
       "    <tr>\n",
       "      <th>2</th>\n",
       "      <td>2024</td>\n",
       "      <td>2</td>\n",
       "      <td>BUENOS AIRES</td>\n",
       "      <td>480.0</td>\n",
       "      <td>5</td>\n",
       "    </tr>\n",
       "    <tr>\n",
       "      <th>3</th>\n",
       "      <td>2024</td>\n",
       "      <td>2</td>\n",
       "      <td>BUENOS AIRES</td>\n",
       "      <td>3.5</td>\n",
       "      <td>41735</td>\n",
       "    </tr>\n",
       "    <tr>\n",
       "      <th>4</th>\n",
       "      <td>2024</td>\n",
       "      <td>2</td>\n",
       "      <td>BUENOS AIRES</td>\n",
       "      <td>18.0</td>\n",
       "      <td>1042</td>\n",
       "    </tr>\n",
       "  </tbody>\n",
       "</table>\n",
       "</div>"
      ],
      "text/plain": [
       "    Año  Trimestre     Provincia  Velocidad  Accesos\n",
       "0  2024          2  BUENOS AIRES       75.0     1062\n",
       "1  2024          2  BUENOS AIRES       59.0       59\n",
       "2  2024          2  BUENOS AIRES      480.0        5\n",
       "3  2024          2  BUENOS AIRES        3.5    41735\n",
       "4  2024          2  BUENOS AIRES       18.0     1042"
      ]
     },
     "execution_count": 4,
     "metadata": {},
     "output_type": "execute_result"
    }
   ],
   "source": [
    "# Cargar la hoja \"Velocidad_sin_Rangos\"\n",
    "df_velocidad = pd.read_excel(xls, sheet_name=\"Velocidad_sin_Rangos\")\n",
    "\n",
    "# Mostrar las primeras filas\n",
    "df_velocidad.head()"
   ]
  },
  {
   "cell_type": "code",
   "execution_count": 5,
   "metadata": {},
   "outputs": [
    {
     "name": "stdout",
     "output_type": "stream",
     "text": [
      "<class 'pandas.core.frame.DataFrame'>\n",
      "RangeIndex: 18884 entries, 0 to 18883\n",
      "Data columns (total 5 columns):\n",
      " #   Column     Non-Null Count  Dtype  \n",
      "---  ------     --------------  -----  \n",
      " 0   Año        18884 non-null  int64  \n",
      " 1   Trimestre  18884 non-null  int64  \n",
      " 2   Provincia  18884 non-null  object \n",
      " 3   Velocidad  18874 non-null  float64\n",
      " 4   Accesos    18884 non-null  int64  \n",
      "dtypes: float64(1), int64(3), object(1)\n",
      "memory usage: 737.8+ KB\n"
     ]
    }
   ],
   "source": [
    "# Verificar tipos de datos\n",
    "df_velocidad.info()"
   ]
  },
  {
   "cell_type": "code",
   "execution_count": 6,
   "metadata": {},
   "outputs": [
    {
     "data": {
      "text/plain": [
       "Año           0\n",
       "Trimestre     0\n",
       "Provincia     0\n",
       "Velocidad    10\n",
       "Accesos       0\n",
       "dtype: int64"
      ]
     },
     "execution_count": 6,
     "metadata": {},
     "output_type": "execute_result"
    }
   ],
   "source": [
    "# Contar valores nulos por columna\n",
    "df_velocidad.isnull().sum()"
   ]
  },
  {
   "cell_type": "code",
   "execution_count": 7,
   "metadata": {},
   "outputs": [
    {
     "data": {
      "text/plain": [
       "0"
      ]
     },
     "execution_count": 7,
     "metadata": {},
     "output_type": "execute_result"
    }
   ],
   "source": [
    "# Contar registros duplicados\n",
    "df_velocidad.duplicated().sum()"
   ]
  },
  {
   "cell_type": "code",
   "execution_count": 8,
   "metadata": {},
   "outputs": [
    {
     "name": "stderr",
     "output_type": "stream",
     "text": [
      "C:\\Users\\User\\AppData\\Local\\Temp\\ipykernel_17872\\2770728471.py:2: FutureWarning: A value is trying to be set on a copy of a DataFrame or Series through chained assignment using an inplace method.\n",
      "The behavior will change in pandas 3.0. This inplace method will never work because the intermediate object on which we are setting values always behaves as a copy.\n",
      "\n",
      "For example, when doing 'df[col].method(value, inplace=True)', try using 'df.method({col: value}, inplace=True)' or df[col] = df[col].method(value) instead, to perform the operation inplace on the original object.\n",
      "\n",
      "\n",
      "  df_velocidad[\"Velocidad\"].fillna(df_velocidad[\"Velocidad\"].median(), inplace=True)\n"
     ]
    },
    {
     "data": {
      "text/plain": [
       "Año          0\n",
       "Trimestre    0\n",
       "Provincia    0\n",
       "Velocidad    0\n",
       "Accesos      0\n",
       "dtype: int64"
      ]
     },
     "execution_count": 8,
     "metadata": {},
     "output_type": "execute_result"
    }
   ],
   "source": [
    "# Rellenar los valores nulos en \"Velocidad\" con la mediana de la columna\n",
    "df_velocidad[\"Velocidad\"].fillna(df_velocidad[\"Velocidad\"].median(), inplace=True)\n",
    "\n",
    "# Verificar que ya no haya valores nulos\n",
    "df_velocidad.isnull().sum()"
   ]
  },
  {
   "cell_type": "code",
   "execution_count": 9,
   "metadata": {},
   "outputs": [
    {
     "data": {
      "image/png": "[encoded data removed]",
      "text/plain": [
       "<Figure size 800x400 with 1 Axes>"
      ]
     },
     "metadata": {},
     "output_type": "display_data"
    }
   ],
   "source": [
    "# Visualizar los valores atípicos de la variable velocidad con un boxplot\n",
    "plt.figure(figsize=(8, 4))\n",
    "sns.boxplot(x=df_velocidad[\"Velocidad\"], color=\"skyblue\")\n",
    "plt.title(\"Boxplot de Velocidad\")\n",
    "plt.show()"
   ]
  },
  {
   "cell_type": "code",
   "execution_count": 10,
   "metadata": {},
   "outputs": [
    {
     "name": "stdout",
     "output_type": "stream",
     "text": [
      "Se encontraron 2800 valores atípicos en la columna 'Velocidad'.\n"
     ]
    }
   ],
   "source": [
    "# Calcular los límites con el rango intercuartílico (IQR)\n",
    "Q1 = df_velocidad[\"Velocidad\"].quantile(0.25)  # Primer cuartil (Q1)\n",
    "Q3 = df_velocidad[\"Velocidad\"].quantile(0.75)  # Tercer cuartil (Q3)\n",
    "IQR = Q3 - Q1  # Rango intercuartílico\n",
    "\n",
    "# Definir límites para valores atípicos\n",
    "limite_inferior = Q1 - 1.5 * IQR\n",
    "limite_superior = Q3 + 1.5 * IQR\n",
    "\n",
    "# Contar cuántos outliers hay\n",
    "outliers = df_velocidad[(df_velocidad[\"Velocidad\"] < limite_inferior) | (df_velocidad[\"Velocidad\"] > limite_superior)]\n",
    "print(f\"Se encontraron {outliers.shape[0]} valores atípicos en la columna 'Velocidad'.\")\n"
   ]
  },
  {
   "cell_type": "code",
   "execution_count": 11,
   "metadata": {},
   "outputs": [
    {
     "data": {
      "image/png": "[encoded data removed]",
      "text/plain": [
       "<Figure size 800x400 with 1 Axes>"
      ]
     },
     "metadata": {},
     "output_type": "display_data"
    }
   ],
   "source": [
    "# Visualizar la distribución de los datos\n",
    "plt.figure(figsize=(8, 4))\n",
    "sns.histplot(df_velocidad[\"Velocidad\"], bins=30, kde=True, color=\"skyblue\")\n",
    "plt.title(\"Distribución de Velocidad\")\n",
    "plt.xlabel(\"Velocidad\")\n",
    "plt.ylabel(\"Frecuencia\")\n",
    "plt.show()"
   ]
  },
  {
   "cell_type": "markdown",
   "metadata": {},
   "source": [
    "Análisis de la Distribución de Velocidad\n",
    "\n",
    "Forma de la Distribución:\n",
    "\n",
    "La distribución no es completamente normal; parece tener una ligera asimetría.\n",
    "Hay valores extremos en el lado derecho (altas velocidades), lo que sugiere la presencia de outliers.Como forman parte de la realidad se decidio mantenerlos para su analisis y en base a esto, a los datos nulos se los decidio imputarlos con la mediana."
   ]
  },
  {
   "cell_type": "code",
   "execution_count": 12,
   "metadata": {},
   "outputs": [
    {
     "data": {
      "text/plain": [
       "array(['BUENOS AIRES', 'CABA', 'CATAMARCA', 'CHACO', 'CHUBUT', 'CORDOBA',\n",
       "       'CORRIENTES', 'ENTRE RIOS', 'FORMOSA', 'JUJUY', 'LA PAMPA',\n",
       "       'LA RIOJA', 'MENDOZA', 'MISIONES', 'NEUQUEN', 'RIO NEGRO', 'SALTA',\n",
       "       'SAN JUAN', 'SAN LUIS', 'SANTA CRUZ', 'SANTA FE',\n",
       "       'SANTIAGO DEL ESTERO', 'TIERRA DEL FUEGO', 'TUCUMAN',\n",
       "       'Buenos Aires', 'Capital Federal', 'Catamarca', 'Chaco', 'Chubut',\n",
       "       'Córdoba', 'Corrientes', 'Entre Ríos', 'Formosa', 'Jujuy',\n",
       "       'La Pampa', 'La Rioja', 'Mendoza', 'Misiones', 'Neuquén',\n",
       "       'Río Negro', 'Salta', 'San Juan', 'San Luis', 'Santa Cruz',\n",
       "       'Santa Fe', 'Santiago Del Estero', 'Tierra Del Fuego', 'Tucumán'],\n",
       "      dtype=object)"
      ]
     },
     "execution_count": 12,
     "metadata": {},
     "output_type": "execute_result"
    }
   ],
   "source": [
    "# Estandarizar la variable categorica Provincia\n",
    "\n",
    "df_velocidad[\"Provincia\"].unique()"
   ]
  },
  {
   "cell_type": "code",
   "execution_count": 13,
   "metadata": {},
   "outputs": [
    {
     "data": {
      "text/plain": [
       "array(['Buenos Aires', 'Capital Federal', 'Catamarca', 'Chaco', 'Chubut',\n",
       "       'Cordoba', 'Corrientes', 'Entre Rios', 'Formosa', 'Jujuy',\n",
       "       'La Pampa', 'La Rioja', 'Mendoza', 'Misiones', 'Neuquen',\n",
       "       'Rio Negro', 'Salta', 'San Juan', 'San Luis', 'Santa Cruz',\n",
       "       'Santa Fe', 'Santiago Del Estero', 'Tierra Del Fuego', 'Tucuman',\n",
       "       'Córdoba', 'Entre Ríos', 'Neuquén', 'Río Negro', 'Tucumán'],\n",
       "      dtype=object)"
      ]
     },
     "execution_count": 13,
     "metadata": {},
     "output_type": "execute_result"
    }
   ],
   "source": [
    "# Normalizar nombres de provincias a formato \"Title Case\"\n",
    "df_velocidad[\"Provincia\"] = df_velocidad[\"Provincia\"].str.title()\n",
    "\n",
    "# Reemplazar \"Caba\" por \"Capital Federal\"\n",
    "df_velocidad[\"Provincia\"] = df_velocidad[\"Provincia\"].replace(\"Caba\", \"Capital Federal\")\n",
    "\n",
    "# Verificar nuevamente los valores únicos\n",
    "df_velocidad[\"Provincia\"].unique()"
   ]
  },
  {
   "cell_type": "code",
   "execution_count": 14,
   "metadata": {},
   "outputs": [],
   "source": [
    "# Cargar la segunda hoja\n",
    "df_accesos_tecnologia = pd.read_excel(file_path, sheet_name=\"Accesos_tecnologia_localidad\")"
   ]
  },
  {
   "cell_type": "code",
   "execution_count": 15,
   "metadata": {},
   "outputs": [
    {
     "data": {
      "text/html": [
       "<div>\n",
       "<style scoped>\n",
       "    .dataframe tbody tr th:only-of-type {\n",
       "        vertical-align: middle;\n",
       "    }\n",
       "\n",
       "    .dataframe tbody tr th {\n",
       "        vertical-align: top;\n",
       "    }\n",
       "\n",
       "    .dataframe thead th {\n",
       "        text-align: right;\n",
       "    }\n",
       "</style>\n",
       "<table border=\"1\" class=\"dataframe\">\n",
       "  <thead>\n",
       "    <tr style=\"text-align: right;\">\n",
       "      <th></th>\n",
       "      <th>Provincia</th>\n",
       "      <th>Partido</th>\n",
       "      <th>Localidad</th>\n",
       "      <th>Tecnologia</th>\n",
       "      <th>Link Indec</th>\n",
       "      <th>Accesos</th>\n",
       "    </tr>\n",
       "  </thead>\n",
       "  <tbody>\n",
       "    <tr>\n",
       "      <th>0</th>\n",
       "      <td>BUENOS AIRES</td>\n",
       "      <td>25 de Mayo</td>\n",
       "      <td>25 de Mayo</td>\n",
       "      <td>ADSL</td>\n",
       "      <td>6854100</td>\n",
       "      <td>755.0</td>\n",
       "    </tr>\n",
       "    <tr>\n",
       "      <th>1</th>\n",
       "      <td>BUENOS AIRES</td>\n",
       "      <td>25 de Mayo</td>\n",
       "      <td>25 de Mayo</td>\n",
       "      <td>CABLEMODEM</td>\n",
       "      <td>6854100</td>\n",
       "      <td>4600.0</td>\n",
       "    </tr>\n",
       "    <tr>\n",
       "      <th>2</th>\n",
       "      <td>BUENOS AIRES</td>\n",
       "      <td>25 de Mayo</td>\n",
       "      <td>25 de Mayo</td>\n",
       "      <td>FIBRA OPTICA</td>\n",
       "      <td>6854100</td>\n",
       "      <td>2.0</td>\n",
       "    </tr>\n",
       "    <tr>\n",
       "      <th>3</th>\n",
       "      <td>BUENOS AIRES</td>\n",
       "      <td>25 de Mayo</td>\n",
       "      <td>25 de Mayo</td>\n",
       "      <td>SATELITAL</td>\n",
       "      <td>6854100</td>\n",
       "      <td>742.0</td>\n",
       "    </tr>\n",
       "    <tr>\n",
       "      <th>4</th>\n",
       "      <td>BUENOS AIRES</td>\n",
       "      <td>25 de Mayo</td>\n",
       "      <td>25 de Mayo</td>\n",
       "      <td>WIRELESS</td>\n",
       "      <td>6854100</td>\n",
       "      <td>727.0</td>\n",
       "    </tr>\n",
       "  </tbody>\n",
       "</table>\n",
       "</div>"
      ],
      "text/plain": [
       "      Provincia     Partido   Localidad    Tecnologia Link Indec  Accesos\n",
       "0  BUENOS AIRES  25 de Mayo  25 de Mayo          ADSL    6854100    755.0\n",
       "1  BUENOS AIRES  25 de Mayo  25 de Mayo    CABLEMODEM    6854100   4600.0\n",
       "2  BUENOS AIRES  25 de Mayo  25 de Mayo  FIBRA OPTICA    6854100      2.0\n",
       "3  BUENOS AIRES  25 de Mayo  25 de Mayo     SATELITAL    6854100    742.0\n",
       "4  BUENOS AIRES  25 de Mayo  25 de Mayo      WIRELESS    6854100    727.0"
      ]
     },
     "execution_count": 15,
     "metadata": {},
     "output_type": "execute_result"
    }
   ],
   "source": [
    "df_accesos_tecnologia.head()"
   ]
  },
  {
   "cell_type": "code",
   "execution_count": 16,
   "metadata": {},
   "outputs": [
    {
     "name": "stdout",
     "output_type": "stream",
     "text": [
      "<class 'pandas.core.frame.DataFrame'>\n",
      "RangeIndex: 7753 entries, 0 to 7752\n",
      "Data columns (total 6 columns):\n",
      " #   Column      Non-Null Count  Dtype  \n",
      "---  ------      --------------  -----  \n",
      " 0   Provincia   7753 non-null   object \n",
      " 1   Partido     7753 non-null   object \n",
      " 2   Localidad   7753 non-null   object \n",
      " 3   Tecnologia  7753 non-null   object \n",
      " 4   Link Indec  7753 non-null   object \n",
      " 5   Accesos     7747 non-null   float64\n",
      "dtypes: float64(1), object(5)\n",
      "memory usage: 363.6+ KB\n"
     ]
    }
   ],
   "source": [
    "# Verificar tipos de datos\n",
    "df_accesos_tecnologia.info()"
   ]
  },
  {
   "cell_type": "code",
   "execution_count": 17,
   "metadata": {},
   "outputs": [
    {
     "data": {
      "text/plain": [
       "0"
      ]
     },
     "execution_count": 17,
     "metadata": {},
     "output_type": "execute_result"
    }
   ],
   "source": [
    "# Contar registros duplicados\n",
    "df_accesos_tecnologia.duplicated().sum()"
   ]
  },
  {
   "cell_type": "code",
   "execution_count": 18,
   "metadata": {},
   "outputs": [
    {
     "data": {
      "text/plain": [
       "Provincia     0\n",
       "Partido       0\n",
       "Localidad     0\n",
       "Tecnologia    0\n",
       "Link Indec    0\n",
       "Accesos       6\n",
       "dtype: int64"
      ]
     },
     "execution_count": 18,
     "metadata": {},
     "output_type": "execute_result"
    }
   ],
   "source": [
    "# Contar valores nulos por columna\n",
    "df_accesos_tecnologia.isnull().sum()"
   ]
  },
  {
   "cell_type": "code",
   "execution_count": 19,
   "metadata": {},
   "outputs": [
    {
     "data": {
      "image/png": "[encoded data removed]",
      "text/plain": [
       "<Figure size 800x500 with 1 Axes>"
      ]
     },
     "metadata": {},
     "output_type": "display_data"
    }
   ],
   "source": [
    "# Visualizar los valores de la variable accesos con un boxplot\n",
    "\n",
    "plt.figure(figsize=(8, 5))\n",
    "sns.boxplot(y=df_accesos_tecnologia[\"Accesos\"])\n",
    "plt.title(\"Box Plot de la columna 'Accesos'\")\n",
    "plt.ylabel(\"Cantidad de Accesos\")\n",
    "plt.show()"
   ]
  },
  {
   "cell_type": "code",
   "execution_count": 20,
   "metadata": {},
   "outputs": [
    {
     "name": "stdout",
     "output_type": "stream",
     "text": [
      "Se encontraron 1196 valores atípicos en la columna 'Accesos'.\n"
     ]
    }
   ],
   "source": [
    "# Calcular los límites con el rango intercuartílico (IQR)\n",
    "Q1 = df_accesos_tecnologia[\"Accesos\"].quantile(0.25)  # Primer cuartil (Q1)\n",
    "Q3 = df_accesos_tecnologia[\"Accesos\"].quantile(0.75)  # Tercer cuartil (Q3)\n",
    "IQR = Q3 - Q1  # Rango intercuartílico\n",
    "\n",
    "# Definir límites para valores atípicos\n",
    "limite_inferior = Q1 - 1.5 * IQR\n",
    "limite_superior = Q3 + 1.5 * IQR\n",
    "\n",
    "# Contar cuántos outliers hay\n",
    "outliers = df_accesos_tecnologia[(df_accesos_tecnologia[\"Accesos\"] < limite_inferior) | (df_accesos_tecnologia[\"Accesos\"] > limite_superior)]\n",
    "print(f\"Se encontraron {outliers.shape[0]} valores atípicos en la columna 'Accesos'.\")"
   ]
  },
  {
   "cell_type": "code",
   "execution_count": 21,
   "metadata": {},
   "outputs": [
    {
     "data": {
      "image/png": "[encoded data removed]",
      "text/plain": [
       "<Figure size 800x500 with 1 Axes>"
      ]
     },
     "metadata": {},
     "output_type": "display_data"
    }
   ],
   "source": [
    "# Histograma para visualizar la distribución\n",
    "plt.figure(figsize=(8,5))\n",
    "sns.histplot(df_accesos_tecnologia[\"Accesos\"].dropna(), bins=30, kde=True)\n",
    "plt.title(\"Distribución de la columna 'Accesos'\")\n",
    "plt.show()"
   ]
  },
  {
   "cell_type": "markdown",
   "metadata": {},
   "source": [
    "Análisis de la Distribución de Accesos\n",
    "\n",
    "Forma de la Distribución:\n",
    "\n",
    "La distribución tiende a ser normal; aunque tiene valores extremos en el lado derecho (muchos accesos), lo que sugiere la presencia de outliers.Como forman parte de la realidad se decidio mantenerlos para su analisis y en base a esto, a los datos nulos se los decidio imputarlos con el promedio."
   ]
  },
  {
   "cell_type": "code",
   "execution_count": 22,
   "metadata": {},
   "outputs": [
    {
     "name": "stdout",
     "output_type": "stream",
     "text": [
      "Provincia     0\n",
      "Partido       0\n",
      "Localidad     0\n",
      "Tecnologia    0\n",
      "Link Indec    0\n",
      "Accesos       0\n",
      "dtype: int64\n"
     ]
    },
    {
     "name": "stderr",
     "output_type": "stream",
     "text": [
      "C:\\Users\\User\\AppData\\Local\\Temp\\ipykernel_17872\\1892018161.py:5: FutureWarning: A value is trying to be set on a copy of a DataFrame or Series through chained assignment using an inplace method.\n",
      "The behavior will change in pandas 3.0. This inplace method will never work because the intermediate object on which we are setting values always behaves as a copy.\n",
      "\n",
      "For example, when doing 'df[col].method(value, inplace=True)', try using 'df.method({col: value}, inplace=True)' or df[col] = df[col].method(value) instead, to perform the operation inplace on the original object.\n",
      "\n",
      "\n",
      "  df_accesos_tecnologia[\"Accesos\"].fillna(mean_value, inplace=True)\n"
     ]
    }
   ],
   "source": [
    "# Calcular el promedio de la columna \"Accesos\" (ignorando nulos)\n",
    "mean_value = df_accesos_tecnologia[\"Accesos\"].mean()\n",
    "\n",
    "# Reemplazar los valores nulos con el promedio\n",
    "df_accesos_tecnologia[\"Accesos\"].fillna(mean_value, inplace=True)\n",
    "\n",
    "# Verificar si aún quedan valores nulos\n",
    "print(df_accesos_tecnologia.isnull().sum())"
   ]
  },
  {
   "cell_type": "code",
   "execution_count": 23,
   "metadata": {},
   "outputs": [
    {
     "name": "stdout",
     "output_type": "stream",
     "text": [
      "Provincia     object\n",
      "Partido       object\n",
      "Localidad     object\n",
      "Tecnologia    object\n",
      "Link Indec    object\n",
      "Accesos        int32\n",
      "dtype: object\n"
     ]
    }
   ],
   "source": [
    "# Convertir la columna \"Accesos\" a entero\n",
    "df_accesos_tecnologia[\"Accesos\"] = df_accesos_tecnologia[\"Accesos\"].astype(int)\n",
    "\n",
    "# Verificar el tipo de dato después de la conversión\n",
    "print(df_accesos_tecnologia.dtypes)\n"
   ]
  },
  {
   "cell_type": "code",
   "execution_count": 31,
   "metadata": {},
   "outputs": [
    {
     "data": {
      "text/plain": [
       "array(['Buenos Aires', 'Caba', 'Catamarca', 'Chaco', 'Chubut', 'Cordoba',\n",
       "       'Corrientes', 'Entre Rios', 'Formosa', 'Jujuy', 'La Pampa',\n",
       "       'La Rioja', 'Mendoza', 'Misiones', 'Neuquen', 'Rio Negro', 'Salta',\n",
       "       'San Juan', 'San Luis', 'Santa Cruz', 'Santa Fe',\n",
       "       'Santiago Del Estero', 'Tierra Del Fuego', 'Tucuman'], dtype=object)"
      ]
     },
     "execution_count": 31,
     "metadata": {},
     "output_type": "execute_result"
    }
   ],
   "source": [
    "# Ver valores únicos en la columna \"Provincia\"\n",
    "df_accesos_tecnologia[\"Provincia\"].unique()"
   ]
  },
  {
   "cell_type": "code",
   "execution_count": 25,
   "metadata": {},
   "outputs": [],
   "source": [
    "# Normalizar nombres de provincias a formato \"Title Case\"\n",
    "df_accesos_tecnologia[\"Provincia\"] = df_accesos_tecnologia[\"Provincia\"].str.title()"
   ]
  },
  {
   "cell_type": "code",
   "execution_count": 26,
   "metadata": {},
   "outputs": [
    {
     "data": {
      "text/plain": [
       "array(['25 de Mayo', '9 de Julio', 'Adolfo Alsina',\n",
       "       'Adolfo Gonzales Chaves', 'Alberti', 'Almirante Brown', 'AMBA',\n",
       "       'Arrecifes', 'Avellaneda', 'Ayacucho', 'Azul', 'Bahía Blanca',\n",
       "       'Balcarce', 'Baradero', 'Benito Juárez', 'Berazategui', 'Berisso',\n",
       "       'Bolívar', 'Bragado', 'Brandsen', 'Campana', 'Cañuelas',\n",
       "       'Capitán Sarmiento', 'Carlos Casares', 'Carlos Tejedor',\n",
       "       'Carmen de Areco', 'Castelli', 'Chacabuco', 'Chascomús',\n",
       "       'Chivilcoy', 'Colón', 'Coronel de Marina L. Rosales',\n",
       "       'Coronel Dorrego', 'Coronel Pringles', 'Coronel Suárez',\n",
       "       'Daireaux', 'Dolores', 'Ensenada', 'Escobar', 'Esteban Echeverría',\n",
       "       'Exaltación de la Cruz', 'Ezeiza', 'Florencio Varela',\n",
       "       'Florentino Ameghino', 'General Alvarado', 'General Arenales',\n",
       "       'General Belgrano', 'General Guido', 'General Juan Madariaga',\n",
       "       'General La Madrid', 'General Las Heras', 'General Lavalle',\n",
       "       'General Paz', 'General Pinto', 'General Pueyrredón',\n",
       "       'General Rodríguez', 'General San Martín', 'General Viamonte',\n",
       "       'General Villegas', 'Guaminí', 'Hipólito Yrigoyen', 'Hurlingham',\n",
       "       'Ituzaingó', 'José C. Paz', 'Junín', 'La Costa', 'La Matanza',\n",
       "       'La Plata', 'Lanús', 'Laprida', 'Las Flores', 'Leandro N. Alem',\n",
       "       'Lincoln', 'Lobería', 'Lobos', 'Lomas De Zamora', 'Luján',\n",
       "       'Magdalena', 'Maipú', 'Malvinas Argentinas', 'Mar Chiquita',\n",
       "       'Marcos Paz', 'Mercedes', 'Merlo', 'Monte', 'Monte Hermoso',\n",
       "       'Moreno', 'Morón', 'Navarro', 'Necochea', 'Olavarría', 'OTROS',\n",
       "       'Patagones', 'Pehuajó', 'Pellegrini', 'Pergamino', 'Pila', 'Pilar',\n",
       "       'Pinamar', 'Presidente Perón', 'Puán', 'Punta Indio', 'Quilmes',\n",
       "       'Ramallo', 'Rauch', 'Rivadavia', 'Rojas', 'Roque Pérez',\n",
       "       'Saavedra', 'Saladillo', 'Salliqueló', 'Salto',\n",
       "       'San Andrés de Giles', 'San Antonio de Areco', 'San Cayetano',\n",
       "       'San Fernando', 'San Isidro', 'San Miguel', 'San Nicolás',\n",
       "       'San Pedro', 'San Vicente', 'Suipacha', 'Tandil', 'Tapalqué',\n",
       "       'Tigre', 'Tordillo', 'Tornquist', 'Trenque Lauquen',\n",
       "       'Tres Arroyos', 'Tres De Febrero', 'Tres Lomas', 'Vicente López',\n",
       "       'Villa Gesell', 'Villarino', 'Zárate',\n",
       "       'Ciudad Autónoma de Buenos Aires', 'Ambato', 'Ancasti',\n",
       "       'Andalgalá', 'Antofagasta de la Sierra', 'Belén', 'Capayán',\n",
       "       'Capital', 'El Alto', 'Fray Mamerto Esquiú', 'La Paz', 'Paclín',\n",
       "       'Pomán', 'Santa María', 'Santa Rosa', 'Tinogasta', 'Valle Viejo',\n",
       "       '12 de Octubre', '1º de Mayo', '2 de Abril', 'Bermejo',\n",
       "       'Comandante Fernández', 'Fray Justo Santa María De Oro',\n",
       "       'Fray Justo Santa María de Oro', 'General Donovan',\n",
       "       'General Güemes', 'Independencia', 'Libertad',\n",
       "       'Libertador General San Martín', 'Mayor Luis J. Fontana',\n",
       "       'O Higgins', 'Presidencia de la Plaza', 'Quitilipi', 'San Lorenzo',\n",
       "       'Sargento Cabral', 'Tapenagá', 'Biedma', 'Cushamen', 'Escalante',\n",
       "       'Futaleufú', 'Gaiman', 'Gastre', 'Languiñeo', 'Mártires',\n",
       "       'Paso de Indios', 'Rawson', 'Río Senguer', 'Sarmiento',\n",
       "       'Tehuelches', 'Telsen', 'Calamuchita', 'Cruz del Eje',\n",
       "       'General Roca', 'Ischilín', 'Juárez Celman', 'Marcos Juárez',\n",
       "       'Minas', 'Otros', 'Pocho', 'Presidente Roque Sáenz Peña',\n",
       "       'Punilla', 'Río Cuarto', 'Río Primero', 'Río Seco', 'Río Segundo',\n",
       "       'San Alberto', 'San Javier', 'San Justo', 'Sobremonte',\n",
       "       'Tercero Arriba', 'Totoral', 'Tulumba', 'Unión', 'Bella Vista',\n",
       "       'Berón de Astrada', 'Concepción', 'Curuzú Cuatiá', 'Empedrado',\n",
       "       'Esquina', 'General Alvear', 'Goya', 'ItatÍ', 'Lavalle',\n",
       "       'Mburucuyá', 'Monte Caseros', 'Paso de los Libres', 'Saladas',\n",
       "       'San Cosme', 'San Luis del Palmar', 'San Martín', 'San Roque',\n",
       "       'Santo Tomé', 'Sauce', 'Concordia', 'Diamante', 'Federación',\n",
       "       'Federal', 'Feliciano', 'Gualeguay', 'Gualeguaychú',\n",
       "       'Islas del Ibicuy', 'Nogoyá', 'Paraná', 'San Salvador', 'Tala',\n",
       "       'Uruguay', 'Victoria', 'Villaguay', 'Formosa', 'Laishi', 'Matacos',\n",
       "       'Patiño', 'Pilagás', 'Pilcomayo', 'Pirané', 'Ramón Lista',\n",
       "       'Cochinoca', 'Doctor Manuel Belgrano', 'El Carmen', 'Humahuaca',\n",
       "       'Ledesma', 'Palpalá', 'Rinconada', 'San Antonio', 'SANTA BARBARA',\n",
       "       'Santa Catalina', 'Susques', 'Tilcara', 'Tumbaya', 'Valle Grande',\n",
       "       'Yavi', 'Atreucó', 'Caleu Caleu', 'Catriló', 'Chalileo',\n",
       "       'Chapaleufú', 'Chical Co', 'Conhelo', 'Curacó', 'Guatraché',\n",
       "       'Hucal', 'Lihuel Calel', 'Limay Mahuida', 'Loventué', 'Maracó',\n",
       "       'Puelén', 'Quemú Quemú', 'Rancul', 'Realicó', 'Toay', 'Trenel',\n",
       "       'Utracán', 'Arauco', 'Castro Barros', 'Chamical', 'Chilecito',\n",
       "       'Coronel Felipe Varela', 'Famatina', 'General Angel V. Peñaloza',\n",
       "       'General Juan F. Quiroga', 'General Lamadrid', 'General Ocampo',\n",
       "       'Rosario Vera Peñaloza', 'San Blas de los Sauces', 'Sanagasta',\n",
       "       'Vinchina', 'Godoy Cruz', 'Guaymallén', 'Las Heras',\n",
       "       'Luján de Cuyo', 'Malargüe', 'San Carlos', 'San Rafael', 'Tunuyán',\n",
       "       'Tupungato', 'Apóstoles', 'Cainguás', 'Candelaria', 'Eldorado',\n",
       "       'General Manuel Belgrano', 'Guaraní', 'Iguazú',\n",
       "       'Libertador Grl. San Martín', 'Montecarlo', 'Oberá', 'San Ignacio',\n",
       "       'Aluminé', 'Añelo', 'Catan LilL', 'Chos Malal', 'Collón Curá',\n",
       "       'Confluencia', 'Huiliches', 'Lácar', 'Loncopué', 'Los Lagos',\n",
       "       'Ñorquín', 'Pehuenches', 'Picún Leufú', 'Picunches', 'Zapala',\n",
       "       'Bariloche', 'Conesa', 'El Cuy', 'Ñorquincó', 'Pichi Mahuida',\n",
       "       'Pilcaniyeu', 'Valcheta', 'Anta', 'Cachi', 'Cafayate', 'Cerrillos',\n",
       "       'Chicoana', 'Grl. José de San Martín', 'Guachipas', 'Iruya',\n",
       "       'La Caldera', 'La Candelaria', 'La Poma', 'La Viña', 'Los Andes',\n",
       "       'Metán', 'Molinos', 'Orán', 'Rosario de la Frontera',\n",
       "       'Rosario de Lerma', 'Santa Victoria', 'Albardón', 'Angaco',\n",
       "       'Calingasta', 'Caucete', 'Chimbas', 'Iglesia', 'Jáchal', 'Pocito',\n",
       "       'Santa Lucía', 'Ullum', 'Valle Fértil', 'Zonda', 'Belgrano',\n",
       "       'General Pedernera', 'Gobernador Dupuy', 'La Capital',\n",
       "       'Corpen Aike', 'Deseado', 'Güer Aike', 'Lago Argentino',\n",
       "       'Lago Buenos Aires', 'Magallanes', 'Río Chico', 'Caseros',\n",
       "       'Castellanos', 'Constitución', 'Garay', 'General López',\n",
       "       'General Obligado', 'Iriondo', 'Las Colonias', 'Rosario',\n",
       "       'San Cristóbal', 'San Jerónimo', 'Vera', 'Aguirre', 'Alberdi',\n",
       "       'Atamisqui', 'Banda', 'Choya', 'Copo', 'Figueroa',\n",
       "       'General Taboada', 'Guasayán', 'Jiménez', 'Juan F. Ibarra',\n",
       "       'Loreto', 'Mitre', 'Ojo de Agua', 'Quebrachos', 'Río Hondo',\n",
       "       'Robles', 'Salavina', 'Silípica', 'Antartida Argentina',\n",
       "       'ANTARTIDA ARGENTINA', 'Río Grande', 'Ushuaia', 'Burruyacú',\n",
       "       'Chicligasta', 'Cruz Alta', 'Famaillá', 'Graneros',\n",
       "       'Juan Bautista Alberdi', 'La Cocha', 'Leales', 'Lules', 'Monteros',\n",
       "       'Simoca', 'Tafí del Valle', 'Tafí Viejo', 'Trancas', 'Yerba Buena'],\n",
       "      dtype=object)"
      ]
     },
     "execution_count": 26,
     "metadata": {},
     "output_type": "execute_result"
    }
   ],
   "source": [
    "# Ver valores únicos en la columna \"Partido\"\n",
    "df_accesos_tecnologia[\"Partido\"].unique()\n"
   ]
  },
  {
   "cell_type": "code",
   "execution_count": 27,
   "metadata": {},
   "outputs": [
    {
     "data": {
      "text/plain": [
       "array(['25 de Mayo', 'Del Valle', 'Ernestina', ..., 'Villa  de Trancas',\n",
       "       'Villa Carmela', 'Yerba Buena - Marcos Paz'], dtype=object)"
      ]
     },
     "execution_count": 27,
     "metadata": {},
     "output_type": "execute_result"
    }
   ],
   "source": [
    "# Ver valores únicos en la columna \"Localidad\"\n",
    "df_accesos_tecnologia[\"Localidad\"].unique()"
   ]
  },
  {
   "cell_type": "code",
   "execution_count": 30,
   "metadata": {},
   "outputs": [
    {
     "data": {
      "text/plain": [
       "array(['ADSL', 'CABLEMODEM', 'FIBRA OPTICA', 'SATELITAL', 'WIRELESS',\n",
       "       'OTROS', 'DIAL UP', 'WIMAX'], dtype=object)"
      ]
     },
     "execution_count": 30,
     "metadata": {},
     "output_type": "execute_result"
    }
   ],
   "source": [
    "# Ver valores únicos en la columna \"Tecnologia\"\n",
    "df_accesos_tecnologia[\"Tecnologia\"].unique()"
   ]
  },
  {
   "cell_type": "code",
   "execution_count": 29,
   "metadata": {},
   "outputs": [],
   "source": [
    "# Diccionario de mapeo para estandarizar la columna \"Tecnologia\"\n",
    "technology_mapping = {\n",
    "    \"CABLEMODEM\": \"CABLEMODEM\",\n",
    "    \"Cablemodem\": \"CABLEMODEM\",\n",
    "    \"OTROS\": \"OTROS\",\n",
    "    \"Otros\": \"OTROS\"\n",
    "}\n",
    "\n",
    "# Aplicar la estandarización a la columna \"Tecnologia\"\n",
    "df_accesos_tecnologia[\"Tecnologia\"] = df_accesos_tecnologia[\"Tecnologia\"].replace(technology_mapping)"
   ]
  },
  {
   "cell_type": "code",
   "execution_count": 32,
   "metadata": {},
   "outputs": [
    {
     "data": {
      "text/html": [
       "<div>\n",
       "<style scoped>\n",
       "    .dataframe tbody tr th:only-of-type {\n",
       "        vertical-align: middle;\n",
       "    }\n",
       "\n",
       "    .dataframe tbody tr th {\n",
       "        vertical-align: top;\n",
       "    }\n",
       "\n",
       "    .dataframe thead th {\n",
       "        text-align: right;\n",
       "    }\n",
       "</style>\n",
       "<table border=\"1\" class=\"dataframe\">\n",
       "  <thead>\n",
       "    <tr style=\"text-align: right;\">\n",
       "      <th></th>\n",
       "      <th>Año</th>\n",
       "      <th>Trimestre</th>\n",
       "      <th>ADSL</th>\n",
       "      <th>Cablemodem</th>\n",
       "      <th>Fibra óptica</th>\n",
       "      <th>Wireless</th>\n",
       "      <th>Otros</th>\n",
       "      <th>Total</th>\n",
       "      <th>Periodo</th>\n",
       "    </tr>\n",
       "  </thead>\n",
       "  <tbody>\n",
       "    <tr>\n",
       "      <th>0</th>\n",
       "      <td>2024</td>\n",
       "      <td>2</td>\n",
       "      <td>733491</td>\n",
       "      <td>5867504</td>\n",
       "      <td>4169958</td>\n",
       "      <td>593197</td>\n",
       "      <td>191957</td>\n",
       "      <td>11556107</td>\n",
       "      <td>Abr-Jun 2024</td>\n",
       "    </tr>\n",
       "    <tr>\n",
       "      <th>1</th>\n",
       "      <td>2024</td>\n",
       "      <td>1</td>\n",
       "      <td>774475</td>\n",
       "      <td>5986957</td>\n",
       "      <td>4015101</td>\n",
       "      <td>598682</td>\n",
       "      <td>257941</td>\n",
       "      <td>11633156</td>\n",
       "      <td>Ene-Mar 2024</td>\n",
       "    </tr>\n",
       "    <tr>\n",
       "      <th>2</th>\n",
       "      <td>2023</td>\n",
       "      <td>4</td>\n",
       "      <td>836390</td>\n",
       "      <td>6022532</td>\n",
       "      <td>3908183</td>\n",
       "      <td>585760</td>\n",
       "      <td>194796</td>\n",
       "      <td>11547661</td>\n",
       "      <td>Oct-Dic 2023</td>\n",
       "    </tr>\n",
       "    <tr>\n",
       "      <th>3</th>\n",
       "      <td>2023</td>\n",
       "      <td>3</td>\n",
       "      <td>897895</td>\n",
       "      <td>6018832</td>\n",
       "      <td>3708718</td>\n",
       "      <td>581436</td>\n",
       "      <td>200027</td>\n",
       "      <td>11406908</td>\n",
       "      <td>Jul-Sept 2023</td>\n",
       "    </tr>\n",
       "    <tr>\n",
       "      <th>4</th>\n",
       "      <td>2023</td>\n",
       "      <td>2</td>\n",
       "      <td>1006509</td>\n",
       "      <td>5997149</td>\n",
       "      <td>3463988</td>\n",
       "      <td>581823</td>\n",
       "      <td>202428</td>\n",
       "      <td>11251897</td>\n",
       "      <td>Abr-Jun 2023</td>\n",
       "    </tr>\n",
       "  </tbody>\n",
       "</table>\n",
       "</div>"
      ],
      "text/plain": [
       "    Año  Trimestre     ADSL  Cablemodem  Fibra óptica  Wireless   Otros  \\\n",
       "0  2024          2   733491     5867504       4169958    593197  191957   \n",
       "1  2024          1   774475     5986957       4015101    598682  257941   \n",
       "2  2023          4   836390     6022532       3908183    585760  194796   \n",
       "3  2023          3   897895     6018832       3708718    581436  200027   \n",
       "4  2023          2  1006509     5997149       3463988    581823  202428   \n",
       "\n",
       "      Total        Periodo  \n",
       "0  11556107   Abr-Jun 2024  \n",
       "1  11633156   Ene-Mar 2024  \n",
       "2  11547661   Oct-Dic 2023  \n",
       "3  11406908  Jul-Sept 2023  \n",
       "4  11251897   Abr-Jun 2023  "
      ]
     },
     "execution_count": 32,
     "metadata": {},
     "output_type": "execute_result"
    }
   ],
   "source": [
    "# Cargar la hoja \"Totales Accesos Por Tecnologia\"\n",
    "df_totales_accesos = pd.read_excel(xls, sheet_name=\"Totales Accesos Por Tecnología\")\n",
    "\n",
    "# Mostrar las primeras filas\n",
    "df_totales_accesos.head()"
   ]
  },
  {
   "cell_type": "code",
   "execution_count": 33,
   "metadata": {},
   "outputs": [
    {
     "name": "stdout",
     "output_type": "stream",
     "text": [
      "<class 'pandas.core.frame.DataFrame'>\n",
      "RangeIndex: 42 entries, 0 to 41\n",
      "Data columns (total 9 columns):\n",
      " #   Column        Non-Null Count  Dtype \n",
      "---  ------        --------------  ----- \n",
      " 0   Año           42 non-null     int64 \n",
      " 1   Trimestre     42 non-null     int64 \n",
      " 2   ADSL          42 non-null     int64 \n",
      " 3   Cablemodem    42 non-null     int64 \n",
      " 4   Fibra óptica  42 non-null     int64 \n",
      " 5   Wireless      42 non-null     int64 \n",
      " 6   Otros         42 non-null     int64 \n",
      " 7   Total         42 non-null     int64 \n",
      " 8   Periodo       42 non-null     object\n",
      "dtypes: int64(8), object(1)\n",
      "memory usage: 3.1+ KB\n"
     ]
    }
   ],
   "source": [
    "# Verificar tipos de datos\n",
    "df_totales_accesos.info()"
   ]
  },
  {
   "cell_type": "code",
   "execution_count": 34,
   "metadata": {},
   "outputs": [
    {
     "data": {
      "text/plain": [
       "Año             0\n",
       "Trimestre       0\n",
       "ADSL            0\n",
       "Cablemodem      0\n",
       "Fibra óptica    0\n",
       "Wireless        0\n",
       "Otros           0\n",
       "Total           0\n",
       "Periodo         0\n",
       "dtype: int64"
      ]
     },
     "execution_count": 34,
     "metadata": {},
     "output_type": "execute_result"
    }
   ],
   "source": [
    "# Contar valores nulos por columna\n",
    "df_totales_accesos.isnull().sum()"
   ]
  },
  {
   "cell_type": "code",
   "execution_count": 35,
   "metadata": {},
   "outputs": [
    {
     "data": {
      "text/plain": [
       "0"
      ]
     },
     "execution_count": 35,
     "metadata": {},
     "output_type": "execute_result"
    }
   ],
   "source": [
    "# Contar registros duplicados\n",
    "df_totales_accesos.duplicated().sum()"
   ]
  },
  {
   "cell_type": "code",
   "execution_count": 36,
   "metadata": {},
   "outputs": [
    {
     "data": {
      "text/html": [
       "<div>\n",
       "<style scoped>\n",
       "    .dataframe tbody tr th:only-of-type {\n",
       "        vertical-align: middle;\n",
       "    }\n",
       "\n",
       "    .dataframe tbody tr th {\n",
       "        vertical-align: top;\n",
       "    }\n",
       "\n",
       "    .dataframe thead th {\n",
       "        text-align: right;\n",
       "    }\n",
       "</style>\n",
       "<table border=\"1\" class=\"dataframe\">\n",
       "  <thead>\n",
       "    <tr style=\"text-align: right;\">\n",
       "      <th></th>\n",
       "      <th>Año</th>\n",
       "      <th>Trimestre</th>\n",
       "      <th>Provincia</th>\n",
       "      <th>Accesos por cada 100 hab</th>\n",
       "    </tr>\n",
       "  </thead>\n",
       "  <tbody>\n",
       "    <tr>\n",
       "      <th>0</th>\n",
       "      <td>2024</td>\n",
       "      <td>2</td>\n",
       "      <td>Buenos Aires</td>\n",
       "      <td>27.43</td>\n",
       "    </tr>\n",
       "    <tr>\n",
       "      <th>1</th>\n",
       "      <td>2024</td>\n",
       "      <td>2</td>\n",
       "      <td>Capital Federal</td>\n",
       "      <td>47.44</td>\n",
       "    </tr>\n",
       "    <tr>\n",
       "      <th>2</th>\n",
       "      <td>2024</td>\n",
       "      <td>2</td>\n",
       "      <td>Catamarca</td>\n",
       "      <td>17.50</td>\n",
       "    </tr>\n",
       "    <tr>\n",
       "      <th>3</th>\n",
       "      <td>2024</td>\n",
       "      <td>2</td>\n",
       "      <td>Chaco</td>\n",
       "      <td>11.78</td>\n",
       "    </tr>\n",
       "    <tr>\n",
       "      <th>4</th>\n",
       "      <td>2024</td>\n",
       "      <td>2</td>\n",
       "      <td>Chubut</td>\n",
       "      <td>26.46</td>\n",
       "    </tr>\n",
       "  </tbody>\n",
       "</table>\n",
       "</div>"
      ],
      "text/plain": [
       "    Año  Trimestre        Provincia  Accesos por cada 100 hab\n",
       "0  2024          2     Buenos Aires                     27.43\n",
       "1  2024          2  Capital Federal                     47.44\n",
       "2  2024          2        Catamarca                     17.50\n",
       "3  2024          2            Chaco                     11.78\n",
       "4  2024          2           Chubut                     26.46"
      ]
     },
     "execution_count": 36,
     "metadata": {},
     "output_type": "execute_result"
    }
   ],
   "source": [
    "# Cargar la hoja \"Penetración-poblacion\"\n",
    "df_penetracion = pd.read_excel(xls, sheet_name=\"Penetración-poblacion\")\n",
    "\n",
    "# Mostrar las primeras filas\n",
    "df_penetracion.head()"
   ]
  },
  {
   "cell_type": "code",
   "execution_count": 37,
   "metadata": {},
   "outputs": [
    {
     "name": "stdout",
     "output_type": "stream",
     "text": [
      "<class 'pandas.core.frame.DataFrame'>\n",
      "RangeIndex: 1000 entries, 0 to 999\n",
      "Data columns (total 4 columns):\n",
      " #   Column                    Non-Null Count  Dtype  \n",
      "---  ------                    --------------  -----  \n",
      " 0   Año                       1000 non-null   int64  \n",
      " 1   Trimestre                 1000 non-null   int64  \n",
      " 2   Provincia                 1000 non-null   object \n",
      " 3   Accesos por cada 100 hab  1000 non-null   float64\n",
      "dtypes: float64(1), int64(2), object(1)\n",
      "memory usage: 31.4+ KB\n"
     ]
    }
   ],
   "source": [
    "# Verificar tipos de datos\n",
    "df_penetracion.info()"
   ]
  },
  {
   "cell_type": "code",
   "execution_count": 38,
   "metadata": {},
   "outputs": [
    {
     "data": {
      "text/plain": [
       "Año                         0\n",
       "Trimestre                   0\n",
       "Provincia                   0\n",
       "Accesos por cada 100 hab    0\n",
       "dtype: int64"
      ]
     },
     "execution_count": 38,
     "metadata": {},
     "output_type": "execute_result"
    }
   ],
   "source": [
    "# Contar valores nulos por columna\n",
    "df_penetracion.isnull().sum()"
   ]
  },
  {
   "cell_type": "code",
   "execution_count": 39,
   "metadata": {},
   "outputs": [
    {
     "data": {
      "text/plain": [
       "0"
      ]
     },
     "execution_count": 39,
     "metadata": {},
     "output_type": "execute_result"
    }
   ],
   "source": [
    "# Contar registros duplicados\n",
    "df_penetracion.duplicated().sum()"
   ]
  },
  {
   "cell_type": "code",
   "execution_count": 40,
   "metadata": {},
   "outputs": [
    {
     "data": {
      "text/plain": [
       "array(['Buenos Aires', 'Capital Federal', 'Catamarca', 'Chaco', 'Chubut',\n",
       "       'Córdoba', 'Corrientes', 'Entre Ríos', 'Formosa', 'Jujuy',\n",
       "       'La Pampa', 'La Rioja', 'Mendoza', 'Misiones', 'Neuquén',\n",
       "       'Río Negro', 'Salta', 'San Juan', 'San Luis', 'Santa Cruz',\n",
       "       'Santa Fe', 'Santiago Del Estero', 'Tierra Del Fuego', 'Tucumán'],\n",
       "      dtype=object)"
      ]
     },
     "execution_count": 40,
     "metadata": {},
     "output_type": "execute_result"
    }
   ],
   "source": [
    "# Ver valores únicos en la columna \"Provincia\"\n",
    "df_penetracion[\"Provincia\"].unique()"
   ]
  },
  {
   "cell_type": "code",
   "execution_count": 41,
   "metadata": {},
   "outputs": [
    {
     "data": {
      "image/png": "[encoded data removed]",
      "text/plain": [
       "<Figure size 800x400 with 1 Axes>"
      ]
     },
     "metadata": {},
     "output_type": "display_data"
    }
   ],
   "source": [
    "# Graficar boxplot\n",
    "plt.figure(figsize=(8, 4))\n",
    "sns.boxplot(x=df_penetracion[\"Accesos por cada 100 hab\"])\n",
    "plt.title(\"Boxplot - Acceso por cada 100 habitantes\")\n",
    "plt.show()"
   ]
  },
  {
   "cell_type": "code",
   "execution_count": 42,
   "metadata": {},
   "outputs": [
    {
     "data": {
      "text/html": [
       "<div>\n",
       "<style scoped>\n",
       "    .dataframe tbody tr th:only-of-type {\n",
       "        vertical-align: middle;\n",
       "    }\n",
       "\n",
       "    .dataframe tbody tr th {\n",
       "        vertical-align: top;\n",
       "    }\n",
       "\n",
       "    .dataframe thead th {\n",
       "        text-align: right;\n",
       "    }\n",
       "</style>\n",
       "<table border=\"1\" class=\"dataframe\">\n",
       "  <thead>\n",
       "    <tr style=\"text-align: right;\">\n",
       "      <th></th>\n",
       "      <th>Año</th>\n",
       "      <th>Trimestre</th>\n",
       "      <th>Ingresos (miles de pesos)</th>\n",
       "      <th>Periodo</th>\n",
       "    </tr>\n",
       "  </thead>\n",
       "  <tbody>\n",
       "    <tr>\n",
       "      <th>0</th>\n",
       "      <td>2024</td>\n",
       "      <td>2</td>\n",
       "      <td>4.420322e+08</td>\n",
       "      <td>Abr-Jun 2024</td>\n",
       "    </tr>\n",
       "    <tr>\n",
       "      <th>1</th>\n",
       "      <td>2024</td>\n",
       "      <td>1</td>\n",
       "      <td>3.461990e+08</td>\n",
       "      <td>Ene-Mar 2024</td>\n",
       "    </tr>\n",
       "    <tr>\n",
       "      <th>2</th>\n",
       "      <td>2023</td>\n",
       "      <td>4</td>\n",
       "      <td>1.673760e+08</td>\n",
       "      <td>Oct-Dic 2023</td>\n",
       "    </tr>\n",
       "    <tr>\n",
       "      <th>3</th>\n",
       "      <td>2023</td>\n",
       "      <td>3</td>\n",
       "      <td>1.331066e+08</td>\n",
       "      <td>Jul-Sept 2023</td>\n",
       "    </tr>\n",
       "    <tr>\n",
       "      <th>4</th>\n",
       "      <td>2023</td>\n",
       "      <td>2</td>\n",
       "      <td>1.180603e+08</td>\n",
       "      <td>Jun-Mar 2023</td>\n",
       "    </tr>\n",
       "  </tbody>\n",
       "</table>\n",
       "</div>"
      ],
      "text/plain": [
       "    Año  Trimestre  Ingresos (miles de pesos)        Periodo\n",
       "0  2024          2               4.420322e+08   Abr-Jun 2024\n",
       "1  2024          1               3.461990e+08   Ene-Mar 2024\n",
       "2  2023          4               1.673760e+08   Oct-Dic 2023\n",
       "3  2023          3               1.331066e+08  Jul-Sept 2023\n",
       "4  2023          2               1.180603e+08   Jun-Mar 2023"
      ]
     },
     "execution_count": 42,
     "metadata": {},
     "output_type": "execute_result"
    }
   ],
   "source": [
    "# Cargar la hoja \"Ingresos\"\n",
    "df_ingresos = pd.read_excel(xls, sheet_name=\"Ingresos \")\n",
    "\n",
    "# Mostrar las primeras filas\n",
    "df_ingresos.head()"
   ]
  },
  {
   "cell_type": "code",
   "execution_count": 43,
   "metadata": {},
   "outputs": [
    {
     "name": "stdout",
     "output_type": "stream",
     "text": [
      "<class 'pandas.core.frame.DataFrame'>\n",
      "RangeIndex: 42 entries, 0 to 41\n",
      "Data columns (total 4 columns):\n",
      " #   Column                     Non-Null Count  Dtype  \n",
      "---  ------                     --------------  -----  \n",
      " 0   Año                        42 non-null     int64  \n",
      " 1   Trimestre                  42 non-null     int64  \n",
      " 2   Ingresos (miles de pesos)  42 non-null     float64\n",
      " 3   Periodo                    42 non-null     object \n",
      "dtypes: float64(1), int64(2), object(1)\n",
      "memory usage: 1.4+ KB\n"
     ]
    }
   ],
   "source": [
    "# Verificar tipos de datos\n",
    "df_ingresos.info()"
   ]
  },
  {
   "cell_type": "code",
   "execution_count": 44,
   "metadata": {},
   "outputs": [
    {
     "data": {
      "text/html": [
       "<div>\n",
       "<style scoped>\n",
       "    .dataframe tbody tr th:only-of-type {\n",
       "        vertical-align: middle;\n",
       "    }\n",
       "\n",
       "    .dataframe tbody tr th {\n",
       "        vertical-align: top;\n",
       "    }\n",
       "\n",
       "    .dataframe thead th {\n",
       "        text-align: right;\n",
       "    }\n",
       "</style>\n",
       "<table border=\"1\" class=\"dataframe\">\n",
       "  <thead>\n",
       "    <tr style=\"text-align: right;\">\n",
       "      <th></th>\n",
       "      <th>Año</th>\n",
       "      <th>Trimestre</th>\n",
       "      <th>Ingresos (miles de pesos)</th>\n",
       "      <th>Periodo</th>\n",
       "    </tr>\n",
       "  </thead>\n",
       "  <tbody>\n",
       "    <tr>\n",
       "      <th>0</th>\n",
       "      <td>2024</td>\n",
       "      <td>2</td>\n",
       "      <td>442032166.69</td>\n",
       "      <td>Abr-Jun 2024</td>\n",
       "    </tr>\n",
       "    <tr>\n",
       "      <th>1</th>\n",
       "      <td>2024</td>\n",
       "      <td>1</td>\n",
       "      <td>346198986.13</td>\n",
       "      <td>Ene-Mar 2024</td>\n",
       "    </tr>\n",
       "    <tr>\n",
       "      <th>2</th>\n",
       "      <td>2023</td>\n",
       "      <td>4</td>\n",
       "      <td>167376014.80</td>\n",
       "      <td>Oct-Dic 2023</td>\n",
       "    </tr>\n",
       "    <tr>\n",
       "      <th>3</th>\n",
       "      <td>2023</td>\n",
       "      <td>3</td>\n",
       "      <td>133106593.41</td>\n",
       "      <td>Jul-Sept 2023</td>\n",
       "    </tr>\n",
       "    <tr>\n",
       "      <th>4</th>\n",
       "      <td>2023</td>\n",
       "      <td>2</td>\n",
       "      <td>118060280.28</td>\n",
       "      <td>Jun-Mar 2023</td>\n",
       "    </tr>\n",
       "  </tbody>\n",
       "</table>\n",
       "</div>"
      ],
      "text/plain": [
       "    Año  Trimestre  Ingresos (miles de pesos)        Periodo\n",
       "0  2024          2               442032166.69   Abr-Jun 2024\n",
       "1  2024          1               346198986.13   Ene-Mar 2024\n",
       "2  2023          4               167376014.80   Oct-Dic 2023\n",
       "3  2023          3               133106593.41  Jul-Sept 2023\n",
       "4  2023          2               118060280.28   Jun-Mar 2023"
      ]
     },
     "execution_count": 44,
     "metadata": {},
     "output_type": "execute_result"
    }
   ],
   "source": [
    "# Mostrar números sin notación científica\n",
    "pd.set_option('display.float_format', '{:.2f}'.format)\n",
    "\n",
    "# Mostrar las primeras filas\n",
    "df_ingresos.head()"
   ]
  },
  {
   "cell_type": "code",
   "execution_count": 45,
   "metadata": {},
   "outputs": [
    {
     "data": {
      "text/plain": [
       "Año                          0\n",
       "Trimestre                    0\n",
       "Ingresos (miles de pesos)    0\n",
       "Periodo                      0\n",
       "dtype: int64"
      ]
     },
     "execution_count": 45,
     "metadata": {},
     "output_type": "execute_result"
    }
   ],
   "source": [
    "# Contar valores nulos por columna\n",
    "df_ingresos.isnull().sum()"
   ]
  },
  {
   "cell_type": "code",
   "execution_count": 46,
   "metadata": {},
   "outputs": [
    {
     "data": {
      "text/plain": [
       "0"
      ]
     },
     "execution_count": 46,
     "metadata": {},
     "output_type": "execute_result"
    }
   ],
   "source": [
    "# Contar registros duplicados\n",
    "df_ingresos.duplicated().sum()"
   ]
  },
  {
   "cell_type": "code",
   "execution_count": 47,
   "metadata": {},
   "outputs": [
    {
     "data": {
      "image/png": "[encoded data removed]",
      "text/plain": [
       "<Figure size 800x400 with 1 Axes>"
      ]
     },
     "metadata": {},
     "output_type": "display_data"
    }
   ],
   "source": [
    "# Visualizar los valores de la variable Ingresos con un boxplot\n",
    "plt.figure(figsize=(8, 4))\n",
    "sns.boxplot(x=df_ingresos[\"Ingresos (miles de pesos)\"], color=\"skyblue\")\n",
    "plt.title(\"Ingresos (miles de pesos)\")\n",
    "plt.show()"
   ]
  },
  {
   "cell_type": "code",
   "execution_count": 50,
   "metadata": {},
   "outputs": [],
   "source": [
    "with pd.ExcelWriter('dataset_internet.xlsx') as writer:\n",
    "    # Guardar cada DataFrame en una hoja separada\n",
    "    df_ingresos.to_excel(writer, sheet_name='Ingresos', index=False)\n",
    "    df_velocidad.to_excel(writer, sheet_name='Velocidad_sin_Rangos', index=False)\n",
    "    df_accesos_tecnologia.to_excel(writer, sheet_name='Accesos_tecnologia_localidad', index=False)\n",
    "    df_totales_accesos.to_excel(writer, sheet_name='Totales Accesos Por Tecnología', index=False)\n",
    "    df_penetracion.to_excel(writer, sheet_name='Penetracion-poblacion', index=False)"
   ]
  }
 ],
 "metadata": {
  "kernelspec": {
   "display_name": "Python 3",
   "language": "python",
   "name": "python3"
  },
  "language_info": {
   "codemirror_mode": {
    "name": "ipython",
    "version": 3
   },
   "file_extension": ".py",
   "mimetype": "text/x-python",
   "name": "python",
   "nbconvert_exporter": "python",
   "pygments_lexer": "ipython3",
   "version": "3.12.3"
  }
 },
 "nbformat": 4,
 "nbformat_minor": 2
}
